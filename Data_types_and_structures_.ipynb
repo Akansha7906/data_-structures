{
  "nbformat": 4,
  "nbformat_minor": 0,
  "metadata": {
    "colab": {
      "provenance": []
    },
    "kernelspec": {
      "name": "python3",
      "display_name": "Python 3"
    },
    "language_info": {
      "name": "python"
    }
  },
  "cells": [
    {
      "cell_type": "markdown",
      "source": [
        "Q1. What are data structures, and why are they important?\n",
        "\n",
        "\n",
        "--->Data Structures\n",
        "\n",
        ". Data structures are techniques to organize, manage, and store data in a computer system.\n",
        "\n",
        ". They arrange data in a way that makes access and processing more efficient.\n",
        "\n",
        ". Common examples include arrays, linked lists, stacks, queues, trees, and graphs.\n",
        "\n",
        "---->Data Structures are Important\n",
        "\n",
        ".  They make operations like searching, inserting, updating, and deleting data faster.\n",
        "\n",
        ". They help in saving memory and managing system resources efficiently.\n",
        "\n",
        ". They support algorithms and make solving complex problems easier.\n",
        "\n",
        ". They are widely used in databases, operating systems, and software applications.\n",
        "\n",
        ". They ensure scalability, so programs can handle large amounts of data smoothly."
      ],
      "metadata": {
        "id": "Hbd65E245FqA"
      }
    },
    {
      "cell_type": "markdown",
      "source": [
        "Q2.Explain the difference between mutable and immutable data types with examples?\n",
        "\n",
        ". Mutable data types are those whose values can be changed or modified after they are created.\n",
        "\n",
        ". When you update a mutable object, it changes in place without creating a new object.\n",
        "\n",
        "Examples: Lists, Dictionaries, Sets.\n",
        "\n",
        "Python Example:\n",
        "\n",
        "my_list = [1, 2, 3]\n",
        "my_list[0] = 10    # List is mutable, so value changes\n",
        "print(my_list)     # Output: [10, 2, 3]\n",
        "\n",
        "\n",
        "--->Immutable Data Types\n",
        "\n",
        ". Immutable data types are those whose values cannot be changed after they are created.\n",
        "\n",
        ". Any modification to an immutable object creates a new object instead of changing the original one.\n",
        "\n",
        "Examples: Strings, Tuples, Integers, Floats.\n",
        "\n",
        "Python Example:\n",
        "\n",
        "my_string = \"Hello\"\n",
        "my_string = my_string + \" World\"   # Creates a new string\n",
        "print(my_string)"
      ],
      "metadata": {
        "id": "xw_q3wae5vYM"
      }
    },
    {
      "cell_type": "markdown",
      "source": [
        "Q3.What are the main differences between lists and tuples in Python?--->Difference between Lists and Tuples in Python\n",
        "\n",
        ". Lists are mutable, meaning their elements can be changed, added, or removed, while tuples are immutable and cannot be modified once created.\n",
        "\n",
        ". Lists use square brackets [ ], whereas tuples use parentheses ( ) for declaration.\n",
        "\n",
        ". Lists generally take more memory and are slower, while tuples use less memory and are faster in execution.\n",
        "\n",
        ". Lists have many built-in methods like append(), remove(), and sort(), but tuples have fewer methods.\n",
        "\n",
        ". Lists are used when data needs to be updated frequently, while tuples are used when data should remain constant, such as coordinates or fixed records"
      ],
      "metadata": {
        "id": "-t5yhGXJ7OKj"
      }
    },
    {
      "cell_type": "markdown",
      "source": [
        "Q4.Describe how dictionaries store data?\n",
        "\n",
        "--->This is the Way How Dictionaries Store Data in Python\n",
        "\n",
        ". Dictionaries store data in the form of key-value pairs, where each key is unique and maps to a specific value.\n",
        "\n",
        ". Internally, they use a hashing technique that converts keys into hash codes for quick access and retrieval.\n",
        "\n",
        ". Data is enclosed within curly braces { } and written in the format {key: value}.\n",
        "\n",
        ". Keys must be immutable types (like strings, numbers, or tuples), while values can be of any type.\n",
        "\n",
        ". Dictionaries provide fast lookup because the hash function directly locates the value using its key.\n",
        "\n",
        ". They are widely used when data needs to be retrieved based on a name or label instead of a numeric index.\n",
        "\n",
        "Example:\n",
        "\n",
        "student = {\"name\": \"Rahul\", \"age\": 20, \"course\": \"Python\"}\n",
        "print(student[\"age\"])   # Output: 20"
      ],
      "metadata": {
        "id": "NNl4OOSa8Y5Y"
      }
    },
    {
      "cell_type": "markdown",
      "source": [
        "Q5.Why might you use a set instead of a list in Python?\n",
        "\n",
        "--->WE USE SET INSTEAD OF LIST IN PYTHON\n",
        "\n",
        ". A set automatically removes duplicate elements, while a list allows duplicates.\n",
        "\n",
        ". Sets use hashing, which makes searching and membership testing (in operation) much faster than lists.\n",
        "\n",
        ". Sets are unordered collections, so they are preferred when the order of elements does not matter.\n",
        "\n",
        ". They provide built-in operations like union, intersection, and difference, which are not directly available with lists.\n",
        "\n",
        ". Sets are best used when we need to store unique data and perform mathematical set operations efficiently"
      ],
      "metadata": {
        "id": "dPS3-v4f9bWr"
      }
    },
    {
      "cell_type": "markdown",
      "source": [
        "Q6.What is a string in Python, and how is it different from a list?\n",
        "\n",
        "--->STRING IN PYTHON, AND HOW IS IT DIFFERENT FROM A LIST.\n",
        "\n",
        ". A string in Python is a sequence of characters enclosed within single quotes (' '), double quotes (\" \"), or triple quotes (''' ''' or \"\"\" \"\"\").\n",
        "\n",
        ". Strings are immutable, which means once created, their content cannot be changed.\n",
        "\n",
        ". A list, on the other hand, is a collection of items (which can be numbers, strings, or other objects) enclosed within square brackets [ ].\n",
        "\n",
        ". Lists are mutable, so elements can be changed, added, or removed after creation.\n",
        "\n",
        ". Strings store only characters, while lists can store different data types together.\n",
        "\n",
        ". Strings use many string-specific methods like upper(), lower(), or split(), while lists have methods like append(), remove(), and sort()."
      ],
      "metadata": {
        "id": "N-3szGoY-S55"
      }
    },
    {
      "cell_type": "markdown",
      "source": [
        "Q7.How do tuples ensure data integrity in Python?\n",
        "\n",
        "--->TUPLES ENSURE DATA INTEGRITY IN PYTHON\n",
        "\n",
        ". Tuples are immutable, meaning their values cannot be changed, added, or removed once created.\n",
        "\n",
        ". This immutability ensures that the data remains fixed and protected from accidental modification.\n",
        "\n",
        ". By preventing changes, tuples help maintain data integrity throughout the program.\n",
        "\n",
        ".Tuples can be used as dictionary keys or elements in sets since their content is constant.\n",
        "\n",
        ". They are useful for storing data that should never change, like coordinates, dates of birth, or configuration settings.\n",
        "\n",
        "Example:"
      ],
      "metadata": {
        "id": "p6kICn4h-3cE"
      }
    },
    {
      "cell_type": "markdown",
      "source": [
        "Q8. What is a hash table, and how does it relate to dictionaries in Python?--->A hash table is a data structure that stores data in key-value pairs and uses a hash function to compute an index (or hash) where the value will be stored.\n",
        "\n",
        ". The hash function converts the key into a unique index, which allows fast access, insertion, and deletion of values.\n",
        "\n",
        ". Python dictionaries are implemented internally using hash tables, which is why they provide very fast lookup of values based on keys.\n",
        "\n",
        ". In a dictionary, each key is hashed, and the resulting hash determines where its corresponding value is stored in memory.\n",
        "\n",
        ". This hashing mechanism ensures that retrieving a value by its key is much quicker compared to searching in a list or array.\n",
        "\n"
      ],
      "metadata": {
        "id": "4D16V-g5_xMX"
      }
    },
    {
      "cell_type": "markdown",
      "source": [
        "Q9. Can lists contain different data types in Python?\n",
        "\n",
        ". Yes, lists in Python can contain different data types within the same list.\n",
        "\n",
        ". A list can store integers, strings, floats, booleans, or even other lists together.\n",
        "\n",
        ". This flexibility makes lists very versatile for storing mixed or complex data.\n",
        "\n",
        ". Lists are mutable, so you can modify, add, or remove elements of any type at any time.\n",
        "\n",
        "Example use cases include storing student records, a mix of numerical values and names, or configuration data."
      ],
      "metadata": {
        "id": "mx5WqUY3AUjo"
      }
    },
    {
      "cell_type": "markdown",
      "source": [
        "Q10. Explain why strings are immutable in Python?\n",
        "\n",
        "--->Strings in Python are immutable, meaning once a string is created, its content cannot be changed.\n",
        "\n",
        ". this immutability ensures data consistency and security, preventing accidental modification of string values.\n",
        "\n",
        ". Python stores strings in memory in a way that allows optimization and sharing, which is possible only if strings are immutable.\n",
        "\n",
        ". Since strings are immutable, operations like concatenation or modification create a new string object instead of changing the original one.\n",
        "\n",
        ". This property allows strings to be used safely as keys in dictionaries or elements in sets."
      ],
      "metadata": {
        "id": "bKOgmWMKBGD6"
      }
    },
    {
      "cell_type": "markdown",
      "source": [
        "Q11. What advantages do dictionaries offer over lists for certain tasks?--->Dictionaries store data in key-value pairs, allowing direct access to a value using its key, whereas lists require index-based searching.\n",
        "\n",
        ". They provide faster lookup and retrieval compared to lists, especially for large datasets.\n",
        "\n",
        ". Dictionaries allow unique keys, which helps prevent duplicate entries when mapping data.\n",
        "\n",
        ". They are ideal for tasks where data needs to be retrieved based on labels or names rather than numeric positions.\n",
        "\n",
        ". Dictionaries support efficient operations like insertion, deletion, and updating of values without needing to traverse the entire collection.\n",
        "\n",
        ". They are widely used in applications like databases, configuration settings, and caching, where quick access to specific data is required."
      ],
      "metadata": {
        "id": "j_HQOF_XBo8K"
      }
    },
    {
      "cell_type": "markdown",
      "source": [
        "Q12. Describe a scenario where using a tuple would be preferable over a list?--->Tuples are immutable, so they are ideal when you want to store data that should not be changed throughout the program.\n",
        "\n",
        ". A common scenario is storing fixed information such as coordinates, dates, or configuration settings.\n",
        "\n",
        "\n",
        ". Tuples are also preferable when the data needs to be used as keys in a dictionary or elements in a set because only immutable types are allowed.\n",
        "\n",
        ". Using a tuple in such scenarios ensures data integrity and safer programming, preventing accidental changes that could cause errors."
      ],
      "metadata": {
        "id": "Sq6Y2ztaCHcV"
      }
    },
    {
      "cell_type": "markdown",
      "source": [
        "Q13.How do sets handle duplicate values in Python?\n",
        "\n",
        "--->Sets in Python are unordered collections of unique elements, which means they automatically remove duplicates.\n",
        "\n",
        ". When you try to add a duplicate value to a set, Python ignores it and keeps only one copy of that element.\n",
        "\n",
        ". This property makes sets useful when you need to store only unique items without worrying about duplicates.\n",
        "\n",
        ". Sets provide efficient operations like checking membership, union, intersection, and difference, all while maintaining uniqueness.\n",
        "\n",
        "Example:\n",
        "\n",
        "numbers = [1, 2, 2, 3, 4, 4]\n",
        "unique_numbers = set(numbers)  # Duplicates removed automatically\n",
        "print(unique_numbers)          # Output: {1, 2, 3, 4}\n",
        "\n",
        "\n",
        ". This ensures data integrity when only distinct values are required, such as storing unique student IDs or email addresses."
      ],
      "metadata": {
        "id": "5sSJffATC5Vc"
      }
    },
    {
      "cell_type": "markdown",
      "source": [
        "Q14. How does the “in” keyword work differently for lists and dictionaries?--->In lists, the in keyword checks whether a value exists anywhere in the list. It searches through each element sequentially.\n",
        "\n",
        ". In dictionaries, the in keyword checks whether a key exists in the dictionary, not the value.\n",
        "\n",
        ". This difference highlights that lists focus on values, while dictionaries focus on keys when using the in keyword.\n",
        "\n",
        ". Dictionaries provide faster key lookup due to their internal hashing mechanism, whereas lists require a linear search through all elements."
      ],
      "metadata": {
        "id": "kGr1xeWUD4IA"
      }
    },
    {
      "cell_type": "markdown",
      "source": [
        "Q15. Can you modify the elements of a tuple? Explain why or why not?\n",
        "\n",
        "--->No, you cannot modify the elements of a tuple because tuples are immutable in Python.\n",
        "\n",
        ". Immutability means that once a tuple is created, its content cannot be changed, added, or removed.\n",
        "\n",
        ". This property ensures that the data stored in a tuple remains fixed and secure, preventing accidental modifications.\n",
        "\n",
        ". If you need to change the data, you must create a new tuple with the desired values.\n",
        "\n",
        ". Tuples are often used when data integrity is important, such as storing coordinates, dates, or configuration settings."
      ],
      "metadata": {
        "id": "PlI5z7SjEiDp"
      }
    },
    {
      "cell_type": "markdown",
      "source": [
        "Q16. What is a nested dictionary, and give an example of its use case?\n",
        "\n",
        "--->A nested dictionary in Python is a dictionary where the values themselves are dictionaries.\n",
        "\n",
        ". It allows you to organize complex data hierarchically, making it easier to store and access related information.\n",
        "\n",
        ". Nested dictionaries are useful for storing structured data, such as student records, employee details, or configuration settings.\n",
        "\n",
        "\n",
        "\n",
        "\n",
        ". Nested dictionaries make it easy to access, update, or manage complex data efficientlY."
      ],
      "metadata": {
        "id": "nh0uQjHEF1OJ"
      }
    },
    {
      "cell_type": "markdown",
      "source": [
        "Q17. Describe the time complexity of accessing elements in a dictionary?\n",
        "\n",
        "\n",
        "--->The time complexity of accessing elements in python dictionary is 0(1)on average because dictionaries use a hash table for storage .lookup operations are performed in constant time since the key is hashed and mapped directly to its value .However ,in the worst cases ,due to hash collision ,the time complexity can degrade to 0(n)."
      ],
      "metadata": {
        "id": "sNsSj-H3Geqz"
      }
    },
    {
      "cell_type": "markdown",
      "source": [
        "Q18.In what situations are lists preferred over dictionaries\n",
        "\n",
        "--->Lists preserve the order of elements, making them ideal when the sequence of data is important, such as maintaining a list of tasks.\n",
        "\n",
        ". Lists allow access to elements by index and support slicing, which dictionaries do not, e.g., students[0:3].\n",
        "\n",
        ". Lists can store duplicate elements, whereas dictionary keys must be unique, e.g., [85, 90, 85, 95].\n",
        "\n",
        ". Lists are simpler and easier to use when only a collection of elements is needed, without key-value mapping, e.g., [\"apple\", \"banana\", \"orange\"].\n",
        "\n",
        ". Lists are suitable for sequential operations such as sorting, reversing, or iterating in order, e.g., numbers.sort()."
      ],
      "metadata": {
        "id": "zjj-iGSoLoLn"
      }
    },
    {
      "cell_type": "markdown",
      "source": [
        "Q19.Why are dictionaries considered unordered, and how does that affect data retrieval?\n",
        "\n",
        "--->Dictionaries in Python are considered unordered because the elements (key-value pairs) are not stored in a sequence based on insertion; their arrangement depends on the internal hash of the keys.\n",
        "\n",
        ". Because of this, you cannot access dictionary items by position or index like you can in a list.\n",
        "\n",
        ". Data retrieval in dictionaries is done using keys, not order, which means you must know the key to access its corresponding value.\n",
        "\n",
        ". This unordered nature allows dictionaries to provide fast lookups, insertions, and deletions based on keys, even if the order of elements is not maintained."
      ],
      "metadata": {
        "id": "sTHzwSowNM9K"
      }
    },
    {
      "cell_type": "markdown",
      "source": [
        "Q20. Explain the difference between a list and a dictionary in terms of data retrieval?\n",
        "\n",
        "--->List: Data is retrieved using index positions. For example, my_list[0] gets the first element. Access time depends on the position, and you can also use slicing to retrieve multiple items.\n",
        "\n",
        ". Dictionary: Data is retrieved using keys. For example, my_dict[\"name\"] gets the value associated with the key \"name\". Access is fast because dictionaries use hashing, and the order of elements does not matter.\n",
        "\n",
        "Summary: Lists are ordered and require numeric indices for retrieval, while dictionaries are unordered and require unique keys for direct access."
      ],
      "metadata": {
        "id": "9HPp-pJxN_e2"
      }
    },
    {
      "cell_type": "markdown",
      "source": [
        "Q1.Write a code to create a string with your name and print it?"
      ],
      "metadata": {
        "id": "O1T4vxb1egyu"
      }
    },
    {
      "cell_type": "code",
      "source": [
        "NAME=\"akansha\"\n",
        "print(NAME)"
      ],
      "metadata": {
        "colab": {
          "base_uri": "https://localhost:8080/"
        },
        "id": "bL3GVSWTfqxO",
        "outputId": "d99feabf-06e4-47ed-af84-439bfbe1baf5"
      },
      "execution_count": null,
      "outputs": [
        {
          "output_type": "stream",
          "name": "stdout",
          "text": [
            "akansha\n"
          ]
        }
      ]
    },
    {
      "cell_type": "markdown",
      "source": [
        "Q2.Write a code to find the length of the string \"Hello World\"?"
      ],
      "metadata": {
        "id": "l5pE2wC4hxpu"
      }
    },
    {
      "cell_type": "code",
      "source": [
        "name=\"Hello World\"\n",
        "print(len(name))"
      ],
      "metadata": {
        "colab": {
          "base_uri": "https://localhost:8080/"
        },
        "id": "JawUvq8WiB9t",
        "outputId": "726a36f0-efa7-4e0d-a904-2cc8f3ff5b3a"
      },
      "execution_count": null,
      "outputs": [
        {
          "output_type": "stream",
          "name": "stdout",
          "text": [
            "11\n"
          ]
        }
      ]
    },
    {
      "cell_type": "markdown",
      "source": [
        "Q3.Write a code to slice the first 3 characters from the string \"Python Programming\"?"
      ],
      "metadata": {
        "id": "XndiorPOluHu"
      }
    },
    {
      "cell_type": "code",
      "source": [
        "name=\"Python Programming\"\n",
        "print(name[0:3])"
      ],
      "metadata": {
        "colab": {
          "base_uri": "https://localhost:8080/"
        },
        "id": "HhKikii7mF2E",
        "outputId": "53594d62-c721-484d-a0ab-c12c326486b3"
      },
      "execution_count": null,
      "outputs": [
        {
          "output_type": "stream",
          "name": "stdout",
          "text": [
            "Pyt\n"
          ]
        }
      ]
    },
    {
      "cell_type": "markdown",
      "source": [
        "Q4. Write a code to convert the string \"hello\" to uppercase?"
      ],
      "metadata": {
        "id": "IzYeFMPDp9hd"
      }
    },
    {
      "cell_type": "code",
      "source": [
        "name=\"hello\"\n",
        "print(name.upper())"
      ],
      "metadata": {
        "colab": {
          "base_uri": "https://localhost:8080/"
        },
        "id": "lpoz07lxqGjm",
        "outputId": "736e30fa-bd7d-42d1-d110-96e7c0ad308c"
      },
      "execution_count": null,
      "outputs": [
        {
          "output_type": "stream",
          "name": "stdout",
          "text": [
            "HELLO\n"
          ]
        }
      ]
    },
    {
      "cell_type": "markdown",
      "source": [
        "Q5. Write a code to replace the word \"apple\" with \"orange\" in the string \"I like apple\"?"
      ],
      "metadata": {
        "id": "DEfgt5WlcqfX"
      }
    },
    {
      "cell_type": "code",
      "source": [
        "name=\"I like apples\"\n",
        "print(name.replace(\"apples\",\"orange\"))\n"
      ],
      "metadata": {
        "colab": {
          "base_uri": "https://localhost:8080/"
        },
        "id": "l8LX6iCvc1PH",
        "outputId": "73f05c44-b148-41f5-d792-51c156b06933"
      },
      "execution_count": null,
      "outputs": [
        {
          "output_type": "stream",
          "name": "stdout",
          "text": [
            "I like orange\n"
          ]
        }
      ]
    },
    {
      "cell_type": "markdown",
      "source": [
        "Q6. Write a code to create a list with numbers 1 to 5 and print it?"
      ],
      "metadata": {
        "id": "tKmoVEn3ltxZ"
      }
    },
    {
      "cell_type": "code",
      "source": [
        "List=[1,2,3,4,5]\n",
        "print(List)"
      ],
      "metadata": {
        "colab": {
          "base_uri": "https://localhost:8080/"
        },
        "id": "LghhGWC3l1O2",
        "outputId": "66686256-6048-4c4e-d0b5-292f6ace2074"
      },
      "execution_count": null,
      "outputs": [
        {
          "output_type": "stream",
          "name": "stdout",
          "text": [
            "[1, 2, 3, 4, 5]\n"
          ]
        }
      ]
    },
    {
      "cell_type": "markdown",
      "source": [
        "Q7. Write a code to append the number 10 to the list [1, 2, 3, 4]?\n"
      ],
      "metadata": {
        "id": "4yFGMQ9mnSDe"
      }
    },
    {
      "cell_type": "code",
      "source": [
        "list=[1,2,3,4]\n",
        "list.append(10)\n",
        "print(list)\n"
      ],
      "metadata": {
        "colab": {
          "base_uri": "https://localhost:8080/"
        },
        "id": "ZQutMOMdvrlO",
        "outputId": "b0ae9154-4f2c-416a-e5e5-723a8a86f8bc"
      },
      "execution_count": null,
      "outputs": [
        {
          "output_type": "stream",
          "name": "stdout",
          "text": [
            "[1, 2, 3, 4, 10]\n"
          ]
        }
      ]
    },
    {
      "cell_type": "markdown",
      "source": [
        "Q8. Write a code to remove the number 3 from the list [1, 2, 3, 4, 5]?"
      ],
      "metadata": {
        "id": "lhOvm39p1gMt"
      }
    },
    {
      "cell_type": "code",
      "source": [
        "list=[1,2,3,4,5]\n",
        "list.remove(3)\n",
        "print(list)"
      ],
      "metadata": {
        "colab": {
          "base_uri": "https://localhost:8080/"
        },
        "id": "95zhMRTh2CvO",
        "outputId": "f8492cc7-a07a-4b9f-f846-9420d396407d"
      },
      "execution_count": null,
      "outputs": [
        {
          "output_type": "stream",
          "name": "stdout",
          "text": [
            "[1, 2, 4, 5]\n"
          ]
        }
      ]
    },
    {
      "cell_type": "markdown",
      "source": [
        "Q9.Write a code to access the second element in the list ['a', 'b', 'c', 'd']?"
      ],
      "metadata": {
        "id": "KbZjpa-X5Zic"
      }
    },
    {
      "cell_type": "code",
      "source": [
        "list=['a','b','c','d']\n",
        "print(list[1])"
      ],
      "metadata": {
        "colab": {
          "base_uri": "https://localhost:8080/"
        },
        "id": "dx9a-pLU5iZ8",
        "outputId": "beab40d5-9034-4b5b-fd70-1226868cd3ac"
      },
      "execution_count": null,
      "outputs": [
        {
          "output_type": "stream",
          "name": "stdout",
          "text": [
            "b\n"
          ]
        }
      ]
    },
    {
      "cell_type": "markdown",
      "source": [
        "Q10. Write a code to reverse the list [10, 20, 30, 40, 50]?"
      ],
      "metadata": {
        "id": "ai1NlJeJLkPa"
      }
    },
    {
      "cell_type": "code",
      "source": [
        "list=[10,20,30,40,50]\n",
        "print(list[::-1])"
      ],
      "metadata": {
        "colab": {
          "base_uri": "https://localhost:8080/"
        },
        "id": "cMOSRWTd82W2",
        "outputId": "b53df073-fea4-4a23-8f84-80b4566196db"
      },
      "execution_count": null,
      "outputs": [
        {
          "output_type": "stream",
          "name": "stdout",
          "text": [
            "[50, 40, 30, 20, 10]\n"
          ]
        }
      ]
    },
    {
      "cell_type": "markdown",
      "source": [
        "Q11. Write a code to create a tuple with the elements 100, 200, 300 and print it?"
      ],
      "metadata": {
        "id": "0BgVL03EHFtt"
      }
    },
    {
      "cell_type": "code",
      "source": [
        "name=(100,200,300)\n",
        "print(name)"
      ],
      "metadata": {
        "colab": {
          "base_uri": "https://localhost:8080/"
        },
        "id": "tcdR3s17HZvj",
        "outputId": "80f694fd-fcf0-432c-b78f-e354284b189f"
      },
      "execution_count": null,
      "outputs": [
        {
          "output_type": "stream",
          "name": "stdout",
          "text": [
            "(100, 200, 300)\n"
          ]
        }
      ]
    },
    {
      "cell_type": "markdown",
      "source": [
        "Q12. Write a code to access the second-to-last element of the tuple ('red', 'green', 'blue', 'yellow')?"
      ],
      "metadata": {
        "id": "jJ7rYa6JIJ8D"
      }
    },
    {
      "cell_type": "code",
      "source": [
        "tuple=('red','green','blue','yellow')\n",
        "print(tuple[-2])"
      ],
      "metadata": {
        "colab": {
          "base_uri": "https://localhost:8080/"
        },
        "id": "OKzHDPdzIgs0",
        "outputId": "80802a07-1890-4b28-d19a-0d1aaa0d8c06"
      },
      "execution_count": null,
      "outputs": [
        {
          "output_type": "stream",
          "name": "stdout",
          "text": [
            "blue\n"
          ]
        }
      ]
    },
    {
      "cell_type": "markdown",
      "source": [
        "Q13. Write a code to find the minimum number in the tuple (10, 20, 5, 15)?"
      ],
      "metadata": {
        "id": "Bdw96d7WKEws"
      }
    },
    {
      "cell_type": "code",
      "source": [
        "tuple=(10,20,5,15)\n",
        "print(min(tuple))\n"
      ],
      "metadata": {
        "colab": {
          "base_uri": "https://localhost:8080/"
        },
        "id": "JB0QZdzhKOeb",
        "outputId": "5a60eba0-d089-47eb-a1f4-db6c460b2d42"
      },
      "execution_count": null,
      "outputs": [
        {
          "output_type": "stream",
          "name": "stdout",
          "text": [
            "5\n"
          ]
        }
      ]
    },
    {
      "cell_type": "markdown",
      "source": [
        "Q14. Write a code to find the index of the element \"cat\" in the tuple ('dog', 'cat', 'rabbit')?\n",
        "\n"
      ],
      "metadata": {
        "id": "2EM5ETnpOLnk"
      }
    },
    {
      "cell_type": "code",
      "source": [
        "tuple=('dog','cat','rabbit')\n",
        "print(tuple.index('cat'))"
      ],
      "metadata": {
        "colab": {
          "base_uri": "https://localhost:8080/"
        },
        "id": "RbYW3fnqQpEj",
        "outputId": "bcca6ea3-7956-460d-9978-163fc72d85b2"
      },
      "execution_count": null,
      "outputs": [
        {
          "output_type": "stream",
          "name": "stdout",
          "text": [
            "1\n"
          ]
        }
      ]
    },
    {
      "cell_type": "markdown",
      "source": [
        "Q15. Write a code to create a tuple containing three different fruits and check if \"kiwi\" is in it?"
      ],
      "metadata": {
        "id": "TNvDOnefUHys"
      }
    },
    {
      "cell_type": "code",
      "source": [
        "tuple=('apple','mango','kiwi')\n",
        "print('kiwi'in tuple)"
      ],
      "metadata": {
        "colab": {
          "base_uri": "https://localhost:8080/"
        },
        "id": "faUe0KCEUjFc",
        "outputId": "bdce86d8-08f4-4dd7-f87a-8637a6b543f0"
      },
      "execution_count": null,
      "outputs": [
        {
          "output_type": "stream",
          "name": "stdout",
          "text": [
            "True\n"
          ]
        }
      ]
    },
    {
      "cell_type": "markdown",
      "source": [
        "Q16. Write a code to create a set with the elements 'a', 'b', 'c' and print it?\n",
        "\n"
      ],
      "metadata": {
        "id": "v73SkAluXvu-"
      }
    },
    {
      "cell_type": "code",
      "source": [
        "set={'a','b','c','d'}\n",
        "print(set)"
      ],
      "metadata": {
        "colab": {
          "base_uri": "https://localhost:8080/"
        },
        "id": "8Hkij4GiX2M9",
        "outputId": "627b60aa-585c-4c3c-9a39-73dbc26d61b2"
      },
      "execution_count": null,
      "outputs": [
        {
          "output_type": "stream",
          "name": "stdout",
          "text": [
            "{'c', 'b', 'a', 'd'}\n"
          ]
        }
      ]
    },
    {
      "cell_type": "markdown",
      "source": [
        "Q17. Write a code to clear all elements from the set {1, 2, 3, 4, 5}?"
      ],
      "metadata": {
        "id": "EMxIyEx3Ys1W"
      }
    },
    {
      "cell_type": "code",
      "source": [
        "set={1,2,3,4,5}\n",
        "set.clear()\n",
        "print(set)\n"
      ],
      "metadata": {
        "colab": {
          "base_uri": "https://localhost:8080/"
        },
        "id": "DX6-sVjFY0UF",
        "outputId": "32122ab0-0643-44ce-8d2a-89b773ff35c2"
      },
      "execution_count": null,
      "outputs": [
        {
          "output_type": "stream",
          "name": "stdout",
          "text": [
            "set()\n"
          ]
        }
      ]
    },
    {
      "cell_type": "markdown",
      "source": [
        "Q18. Write a code to remove the element 4 from the set {1, 2, 3, 4}?"
      ],
      "metadata": {
        "id": "ojCHbdaZbL0e"
      }
    },
    {
      "cell_type": "code",
      "source": [
        "set={1,2,3,4}\n",
        "set.remove(4)\n",
        "print(set)"
      ],
      "metadata": {
        "colab": {
          "base_uri": "https://localhost:8080/"
        },
        "id": "A3GNjlq3bRKF",
        "outputId": "cbb67d5b-e655-48a6-c8f2-701b022bc846"
      },
      "execution_count": null,
      "outputs": [
        {
          "output_type": "stream",
          "name": "stdout",
          "text": [
            "{1, 2, 3}\n"
          ]
        }
      ]
    },
    {
      "cell_type": "markdown",
      "source": [
        "Q19. Write a code to find the union of two sets {1, 2, 3} and {3, 4, 5}?"
      ],
      "metadata": {
        "id": "K_5lx0ADduoW"
      }
    },
    {
      "cell_type": "code",
      "source": [
        "set1={1,2,3}\n",
        "set2={3,4,5}\n",
        "print(set1.union(set2))\n"
      ],
      "metadata": {
        "colab": {
          "base_uri": "https://localhost:8080/"
        },
        "id": "ifK0E6pId0ZF",
        "outputId": "4d4b44e8-ae41-4737-fd38-7011b89bfa7d"
      },
      "execution_count": null,
      "outputs": [
        {
          "output_type": "stream",
          "name": "stdout",
          "text": [
            "{1, 2, 3, 4, 5}\n"
          ]
        }
      ]
    },
    {
      "cell_type": "markdown",
      "source": [
        "Q20. Write a code to find the intersection of two sets {1, 2, 3} and {2, 3, 4}?"
      ],
      "metadata": {
        "id": "UyXIQqf-l7nM"
      }
    },
    {
      "cell_type": "code",
      "source": [
        "set1={1,2,3}\n",
        "set2={2,3,4}\n",
        "print(set1.intersection(set2))"
      ],
      "metadata": {
        "colab": {
          "base_uri": "https://localhost:8080/"
        },
        "id": "FENFmSJGmBwm",
        "outputId": "f5d92c68-cdff-421b-9c2b-0bd38c1023b3"
      },
      "execution_count": null,
      "outputs": [
        {
          "output_type": "stream",
          "name": "stdout",
          "text": [
            "{2, 3}\n"
          ]
        }
      ]
    },
    {
      "cell_type": "markdown",
      "source": [
        "Q21. Write a code to create a dictionary with the keys \"name\", \"age\", and \"city\", and print it?"
      ],
      "metadata": {
        "id": "NnJLR6XSnr7o"
      }
    },
    {
      "cell_type": "code",
      "source": [
        "my_dict={\"name\":\"riya verma\",\"age\": 22,\"city\":\"meerut\"}\n",
        "print(my_dict)"
      ],
      "metadata": {
        "colab": {
          "base_uri": "https://localhost:8080/"
        },
        "id": "qYBS8HicoMlW",
        "outputId": "1e865be3-22ba-4688-eaf9-41b4509968e9"
      },
      "execution_count": null,
      "outputs": [
        {
          "output_type": "stream",
          "name": "stdout",
          "text": [
            "{'name': 'riya verma', 'age': 22, 'city': 'meerut'}\n"
          ]
        }
      ]
    },
    {
      "cell_type": "markdown",
      "source": [
        "Q22. Write a code to add a new key-value pair \"country\": \"USA\" to the dictionary {'name': 'John', 'age': 25}?"
      ],
      "metadata": {
        "id": "4wYlgowvqLHw"
      }
    },
    {
      "cell_type": "code",
      "source": [
        "dict={'name':'john','age':25}\n",
        "dict['country']='USA'\n",
        "print(dict)\n"
      ],
      "metadata": {
        "colab": {
          "base_uri": "https://localhost:8080/"
        },
        "id": "7sLt0_KKqT03",
        "outputId": "8c2496df-a8b7-48ab-eb45-70b00ec1903a"
      },
      "execution_count": null,
      "outputs": [
        {
          "output_type": "stream",
          "name": "stdout",
          "text": [
            "{'name': 'john', 'age': 25, 'country': 'USA'}\n"
          ]
        }
      ]
    },
    {
      "cell_type": "markdown",
      "source": [
        "Q23. Write a code to access the value associated with the key \"name\" in the dictionary {'name': 'Alice', 'age': 30}?"
      ],
      "metadata": {
        "id": "u1AfMy5CzgIs"
      }
    },
    {
      "cell_type": "code",
      "source": [
        "dict={'name':'Alice','age':30}\n",
        "print(dict['name'])"
      ],
      "metadata": {
        "colab": {
          "base_uri": "https://localhost:8080/"
        },
        "id": "dXl7rVLPzmdj",
        "outputId": "6997f6f7-1d73-47d8-d1f4-a53729610859"
      },
      "execution_count": null,
      "outputs": [
        {
          "output_type": "stream",
          "name": "stdout",
          "text": [
            "Alice\n"
          ]
        }
      ]
    },
    {
      "cell_type": "markdown",
      "source": [
        "Q24. Write a code to remove the key \"age\" from the dictionary {'name': 'Bob', 'age': 22, 'city': 'New York'}?"
      ],
      "metadata": {
        "id": "-h-e0f_u1c9m"
      }
    },
    {
      "cell_type": "code",
      "source": [
        "dict={'name':'Bob','age':22,'city':'New York'}\n",
        "dict.pop('age')\n",
        "print(dict)\n"
      ],
      "metadata": {
        "colab": {
          "base_uri": "https://localhost:8080/"
        },
        "id": "cs3nVqCC1iIR",
        "outputId": "031ee2f6-036e-4361-841a-d57eada6ba14"
      },
      "execution_count": null,
      "outputs": [
        {
          "output_type": "stream",
          "name": "stdout",
          "text": [
            "{'name': 'Bob', 'city': 'New York'}\n"
          ]
        }
      ]
    },
    {
      "cell_type": "markdown",
      "source": [
        "Q25. Write a code to check if the key \"city\" exists in the dictionary {'name': 'Alice', 'city': 'Paris'}?"
      ],
      "metadata": {
        "id": "gfLjI6Pk7c1J"
      }
    },
    {
      "cell_type": "code",
      "source": [
        "dict={'name':'Alice','city':'Paris'}\n",
        "print('city' in dict)"
      ],
      "metadata": {
        "colab": {
          "base_uri": "https://localhost:8080/"
        },
        "id": "2dL0N1ji7jRp",
        "outputId": "dd7ff2ca-d0de-400d-860a-3936afea1774"
      },
      "execution_count": null,
      "outputs": [
        {
          "output_type": "stream",
          "name": "stdout",
          "text": [
            "True\n"
          ]
        }
      ]
    },
    {
      "cell_type": "markdown",
      "source": [
        "Q26. Write a code to create a list, a tuple, and a dictionary, and print them all?"
      ],
      "metadata": {
        "id": "FOQMsI-EDIxT"
      }
    },
    {
      "cell_type": "code",
      "source": [
        "list=[1,2,3,4,5]\n",
        "tuple=(1,2,3,4,5)\n",
        "dict={'name':'riyaverma','age':22,'city':'meerut'}\n",
        "print(list)\n",
        "print(tuple)\n",
        "print(dict)"
      ],
      "metadata": {
        "colab": {
          "base_uri": "https://localhost:8080/"
        },
        "id": "CuLmt2LADQNq",
        "outputId": "f73a0d7d-35da-4e4d-99b5-9da7b180fd42"
      },
      "execution_count": null,
      "outputs": [
        {
          "output_type": "stream",
          "name": "stdout",
          "text": [
            "[1, 2, 3, 4, 5]\n",
            "(1, 2, 3, 4, 5)\n",
            "{'name': 'riyaverma', 'age': 22, 'city': 'meerut'}\n"
          ]
        }
      ]
    },
    {
      "cell_type": "markdown",
      "source": [
        "Q27. Write a code to create a list of 5 random numbers between 1 and 100, sort it in ascending order, and print the\n",
        "result.(replaced)?"
      ],
      "metadata": {
        "id": "1wkkU3aWIcsk"
      }
    },
    {
      "cell_type": "code",
      "source": [
        "import random\n",
        "numbers=random.sample (range(1,101),5)\n",
        "numbers.sort()\n",
        "print(numbers)"
      ],
      "metadata": {
        "id": "OJf9n3NyInla",
        "colab": {
          "base_uri": "https://localhost:8080/"
        },
        "outputId": "30a65509-4944-4378-f9a4-3479abe27722"
      },
      "execution_count": null,
      "outputs": [
        {
          "output_type": "stream",
          "name": "stdout",
          "text": [
            "[57, 73, 93, 95, 97]\n"
          ]
        }
      ]
    },
    {
      "cell_type": "markdown",
      "source": [
        "Q28.Write a code to create a list with strings and print the element of the third index?"
      ],
      "metadata": {
        "id": "QL61JGVCROCv"
      }
    },
    {
      "cell_type": "code",
      "source": [
        "list=['apple','mango','kiwi','banana']\n",
        "print(list[2])"
      ],
      "metadata": {
        "colab": {
          "base_uri": "https://localhost:8080/"
        },
        "id": "dT_TsRebRsc9",
        "outputId": "09331a7e-7dcf-4a68-db9b-84b41e9ca382"
      },
      "execution_count": null,
      "outputs": [
        {
          "output_type": "stream",
          "name": "stdout",
          "text": [
            "kiwi\n"
          ]
        }
      ]
    },
    {
      "cell_type": "markdown",
      "source": [
        "Q29.Write a code to combine two dictionaries into one and print the result?"
      ],
      "metadata": {
        "id": "KFN-lGiXSZbv"
      }
    },
    {
      "cell_type": "code",
      "source": [
        "dict1={'name':'riyaverma','age':22,'country':'usa'}\n",
        "dict2={'education':'mphill','university':'abc'}\n",
        "combined={**dict1,**dict2}\n",
        "print(combined)"
      ],
      "metadata": {
        "colab": {
          "base_uri": "https://localhost:8080/"
        },
        "id": "op9sowGSSrYR",
        "outputId": "aa234dc8-29cc-4144-dbc0-ef85bfe4b81e"
      },
      "execution_count": null,
      "outputs": [
        {
          "output_type": "stream",
          "name": "stdout",
          "text": [
            "{'name': 'riyaverma', 'age': 22, 'country': 'usa', 'education': 'mphill', 'university': 'abc'}\n"
          ]
        }
      ]
    },
    {
      "cell_type": "markdown",
      "source": [
        "Q30.Write a code to convert a list of strings into a set?"
      ],
      "metadata": {
        "id": "bSJs1MhFXVIx"
      }
    },
    {
      "cell_type": "code",
      "source": [
        "list=['apple','mango','banana','kiwi']\n",
        "print(set(list))"
      ],
      "metadata": {
        "colab": {
          "base_uri": "https://localhost:8080/"
        },
        "id": "iJuFuqywXkme",
        "outputId": "bbdc05b5-d604-45b9-cff8-39e1252350ca"
      },
      "execution_count": null,
      "outputs": [
        {
          "output_type": "stream",
          "name": "stdout",
          "text": [
            "{'banana', 'kiwi', 'mango', 'apple'}\n"
          ]
        }
      ]
    },
    {
      "cell_type": "code",
      "source": [],
      "metadata": {
        "id": "okxi5HNamcWO"
      },
      "execution_count": null,
      "outputs": []
    },
    {
      "cell_type": "code",
      "source": [],
      "metadata": {
        "id": "ocWK7gXibIUG"
      },
      "execution_count": null,
      "outputs": []
    },
    {
      "cell_type": "code",
      "source": [],
      "metadata": {
        "id": "80jvZgtFbQfV"
      },
      "execution_count": null,
      "outputs": []
    },
    {
      "cell_type": "code",
      "source": [],
      "metadata": {
        "id": "5bTA35O3UiFU"
      },
      "execution_count": null,
      "outputs": []
    },
    {
      "cell_type": "markdown",
      "source": [],
      "metadata": {
        "id": "LMX2bAAG5Ax5"
      }
    },
    {
      "cell_type": "code",
      "source": [],
      "metadata": {
        "id": "f5IMYqVJKNNE"
      },
      "execution_count": null,
      "outputs": []
    }
  ]
}